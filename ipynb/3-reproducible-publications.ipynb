{
 "cells": [
  {
   "cell_type": "markdown",
   "metadata": {},
   "source": [
    "# Reproducible publications with Jupyter Notebooks\n",
    "A community initiative to assess reproducibility of publications accompanied by Jupyter Notebooks\n",
    "\n",
    "_source | https://github.com/sparcopen/open-research-doathon/issues/25_"
   ]
  },
  {
   "cell_type": "markdown",
   "metadata": {},
   "source": [
    "![source: https://github.com/Daniel-Mietchen/learning2code/milestone/3](../img/open_data_doathon.png)"
   ]
  },
  {
   "cell_type": "markdown",
   "metadata": {},
   "source": [
    "# Loading dependencies¶\n"
   ]
  },
  {
   "cell_type": "code",
   "execution_count": null,
   "metadata": {},
   "outputs": [],
   "source": [
    "library(europepmc)\n",
    "library(data.table)\n",
    "library(DT)"
   ]
  },
  {
   "cell_type": "markdown",
   "metadata": {},
   "source": [
    "# Settings parameters"
   ]
  },
  {
   "cell_type": "code",
   "execution_count": null,
   "metadata": {},
   "outputs": [],
   "source": [
    "limit_entries = 100000"
   ]
  },
  {
   "cell_type": "markdown",
   "metadata": {},
   "source": [
    "# Retrieve information programmatically for publications in EuropepMC"
   ]
  },
  {
   "cell_type": "markdown",
   "metadata": {},
   "source": [
    "This idea and code snippet below are [@rossmounce's](https://github.com/rossmounce) <img src=\"https://www.pngfind.com/pngs/m/40-405156_github-octocat-logo-black-and-white-transparent-github.png\"  width=\"25\" align=\"center\" > and you can see it [here in the discussion thread at the respective github issue](https://github.com/sparcopen/open-research-doathon/issues/25#issuecomment-283959368)."
   ]
  },
  {
   "cell_type": "code",
   "execution_count": null,
   "metadata": {},
   "outputs": [],
   "source": [
    "hits <- europepmc::epmc_search(query = 'jupyter%20OR%20ipynb&synonym=TRUE', \n",
    "                               limit = limit_entries)\n",
    "\n",
    "dim(hits)\n",
    "write.csv(hits,file=paste0( \"../data/3-reproducible-publications/hits_\", dim(hits)[1], \".csv\"))"
   ]
  },
  {
   "cell_type": "code",
   "execution_count": null,
   "metadata": {},
   "outputs": [],
   "source": [
    "epmc_search_results <- paste0( \"../data/3-reproducible-publications/hits_\", \n",
    "                              dim(hits)[1], \n",
    "                              \".csv\")\n",
    "message(paste0(\"\\n\",\"europepmc::epmc_search results file: \", epmc_search_results))\n",
    "\n",
    "hits <- data.table::fread(epmc_search_results)\n",
    "head(hits, 2)\n"
   ]
  },
  {
   "cell_type": "markdown",
   "metadata": {},
   "source": [
    "# Let's try the link trick again!\n",
    "\n",
    "We will make the `pmcid` column entries, hyperlinks that take us to the original article by using the HTML trick we learned in the session `2-plotting-in-R`."
   ]
  },
  {
   "cell_type": "code",
   "execution_count": null,
   "metadata": {},
   "outputs": [],
   "source": [
    "# Mutate the package names to create clickable links:\n",
    "\n",
    "hits$pmcid <- paste0(\"<a href='https://europepmc.org/articles/\",\n",
    "                     hits$pmcid, \n",
    "                     \"'\",\n",
    "                     \"target='blank\",\n",
    "                     \"'>\",\n",
    "                     hits$pmcid, \n",
    "                     \"</a>\")"
   ]
  },
  {
   "cell_type": "code",
   "execution_count": null,
   "metadata": {},
   "outputs": [],
   "source": [
    "DT::datatable(head(hits,2), \n",
    "              escape = FALSE) # required for the link trick to work"
   ]
  },
  {
   "cell_type": "markdown",
   "metadata": {},
   "source": [
    "# And now let's keep only the columns we really need\n",
    "The title of the publication and the hyperlink to the journal."
   ]
  },
  {
   "cell_type": "code",
   "execution_count": null,
   "metadata": {},
   "outputs": [],
   "source": [
    "toKeep <- c(\"pmcid\", \"title\", \"pubYear\")\n",
    "DT::datatable(hits[,toKeep, with=FALSE],escape = FALSE) # required for the link trick to work"
   ]
  },
  {
   "cell_type": "markdown",
   "metadata": {},
   "source": [
    "# Our goal for the following time"
   ]
  },
  {
   "cell_type": "markdown",
   "metadata": {},
   "source": [
    "- Take a look at the publications from the interactive table above.\n",
    "- Find one that seems of interest to you and visit the link \n",
    "- Does the publication have a supplementary `.ipynb` file? Or it was only mentioned in text? (false positive!)\n",
    "- While in the publication page `CTRL + F` the word `github`. Is there a link that point to a repository?\n",
    "\n",
    "If yes, perfect!\n",
    "\n",
    "- In the repository page, search and find the <img src=\"../img/clone_or_download.png\"  width=\"100\" align=\"center\" > button.\n",
    "- Once you have the link, come back to __CloudOS__ and let's try to inspect the code.\n"
   ]
  },
  {
   "cell_type": "markdown",
   "metadata": {},
   "source": [
    "# Keeping track of what was \n",
    "- interesting\n",
    "- reproducible\n",
    "- had a github link\n",
    "\n",
    "If you want you can also annotate the table we retrieved with help from the [{ropensci/europepmc}](https://ropensci.github.io/europepmc) R package."
   ]
  },
  {
   "cell_type": "markdown",
   "metadata": {},
   "source": [
    "You can initialise a column named `github` for example, with the value 0."
   ]
  },
  {
   "cell_type": "code",
   "execution_count": null,
   "metadata": {},
   "outputs": [],
   "source": [
    "hits$github <- \"edit me!\""
   ]
  },
  {
   "cell_type": "markdown",
   "metadata": {},
   "source": [
    "There is an argument in the `DT::datatable()` function that we have been using, called `editable`. By turing this to true, you can update the information for the column you have just created. Similarly you can create other metadata columns, like `reproducible`."
   ]
  },
  {
   "cell_type": "code",
   "execution_count": null,
   "metadata": {},
   "outputs": [],
   "source": [
    "toKeep <- c(toKeep, \"github\")\n",
    "DT::datatable(hits[1:4,toKeep, with=FALSE],\n",
    "              escape = FALSE, # required for the link trick to work\n",
    "              editable = TRUE)"
   ]
  },
  {
   "cell_type": "markdown",
   "metadata": {},
   "source": [
    "Double click on an `\"edit me!\"` cell in the `github` column table above, and set it to 1 for testing! You can export the newly annotated table into a .csv file using the `data.table::fwrite()` function."
   ]
  },
  {
   "cell_type": "code",
   "execution_count": null,
   "metadata": {},
   "outputs": [],
   "source": [
    "data.table::fwrite(hits,\n",
    "                   col.names = TRUE, \n",
    "                   row.names = FALSE,\n",
    "                   file = \"../data/3-reproducible-publications/annotated_hits.csv\", \n",
    "                   sep  =',')"
   ]
  },
  {
   "cell_type": "markdown",
   "metadata": {},
   "source": [
    "# We can now check together a really great example of a reproducible publication"
   ]
  },
  {
   "cell_type": "code",
   "execution_count": null,
   "metadata": {},
   "outputs": [],
   "source": [
    "DT::datatable(hits[,c(\"pmcid\", \"title\", \"github\")],\n",
    "              escape = FALSE)"
   ]
  },
  {
   "cell_type": "markdown",
   "metadata": {},
   "source": [
    "# Hint: 🌧️ 🎨 🤔"
   ]
  }
 ],
 "metadata": {
  "kernelspec": {
   "display_name": "R",
   "language": "R",
   "name": "ir"
  },
  "language_info": {
   "codemirror_mode": "r",
   "file_extension": ".r",
   "mimetype": "text/x-r-source",
   "name": "R",
   "pygments_lexer": "r",
   "version": "3.6.2"
  }
 },
 "nbformat": 4,
 "nbformat_minor": 4
}
